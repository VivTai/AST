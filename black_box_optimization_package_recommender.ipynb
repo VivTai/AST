{
  "nbformat": 4,
  "nbformat_minor": 0,
  "metadata": {
    "colab": {
      "name": "black-box-optimization-package-recommender.ipynb",
      "provenance": [],
      "include_colab_link": true
    },
    "kernelspec": {
      "name": "python3",
      "display_name": "Python 3"
    },
    "language_info": {
      "name": "python"
    }
  },
  "cells": [
    {
      "cell_type": "markdown",
      "metadata": {
        "id": "view-in-github",
        "colab_type": "text"
      },
      "source": [
        "<a href=\"https://colab.research.google.com/github/VivTai/AST/blob/main/black_box_optimization_package_recommender.ipynb\" target=\"_parent\"><img src=\"https://colab.research.google.com/assets/colab-badge.svg\" alt=\"Open In Colab\"/></a>"
      ]
    },
    {
      "cell_type": "code",
      "metadata": {
        "id": "dOItaUcAIxs8",
        "outputId": "82fef15b-de20-4db7-d3a1-299f009c872a",
        "colab": {
          "base_uri": "https://localhost:8080/"
        }
      },
      "source": [
        "!pip install humpday[full]"
      ],
      "execution_count": 1,
      "outputs": [
        {
          "output_type": "stream",
          "name": "stdout",
          "text": [
            "Looking in indexes: https://pypi.org/simple, https://us-python.pkg.dev/colab-wheels/public/simple/\n",
            "Collecting humpday[full]\n",
            "  Downloading humpday-0.6.5-py3-none-any.whl (56 kB)\n",
            "\u001b[K     |████████████████████████████████| 56 kB 2.6 MB/s \n",
            "\u001b[?25hCollecting microconventions>=0.5.0\n",
            "  Downloading microconventions-1.0.0-py3-none-any.whl (16 kB)\n",
            "Requirement already satisfied: numpy>=1.21.5 in /usr/local/lib/python3.8/dist-packages (from humpday[full]) (1.21.6)\n",
            "Collecting winning>=0.4.6\n",
            "  Downloading winning-0.4.6-py3-none-any.whl (18 kB)\n",
            "Requirement already satisfied: importlib-metadata>=1.7.0 in /usr/local/lib/python3.8/dist-packages (from humpday[full]) (5.1.0)\n",
            "Requirement already satisfied: scikit-learn in /usr/local/lib/python3.8/dist-packages (from humpday[full]) (1.0.2)\n",
            "Collecting landscapes\n",
            "  Downloading landscapes-0.0.12-py3-none-any.whl (15 kB)\n",
            "Collecting funcy\n",
            "  Downloading funcy-1.17-py2.py3-none-any.whl (33 kB)\n",
            "Collecting getjson\n",
            "  Downloading getjson-2.0.0-py3-none-any.whl (2.6 kB)\n",
            "Collecting pymorton\n",
            "  Downloading pymorton-1.0.5-py2.py3-none-any.whl (4.4 kB)\n",
            "Requirement already satisfied: scipy in /usr/local/lib/python3.8/dist-packages (from humpday[full]) (1.7.3)\n",
            "Requirement already satisfied: wheel in /usr/local/lib/python3.8/dist-packages (from humpday[full]) (0.38.4)\n",
            "Collecting poap\n",
            "  Downloading POAP-0.1.26-py2.py3-none-any.whl (36 kB)\n",
            "Collecting pysot\n",
            "  Downloading pySOT-0.3.3-py2.py3-none-any.whl (72 kB)\n",
            "\u001b[K     |████████████████████████████████| 72 kB 1.1 MB/s \n",
            "\u001b[?25hCollecting ax-platform\n",
            "  Downloading ax_platform-0.2.9-py3-none-any.whl (1.1 MB)\n",
            "\u001b[K     |████████████████████████████████| 1.1 MB 43.4 MB/s \n",
            "\u001b[?25hCollecting py-bobyqa\n",
            "  Downloading Py-BOBYQA-1.3.tar.gz (37 kB)\n",
            "Collecting optuna\n",
            "  Downloading optuna-3.0.5-py3-none-any.whl (348 kB)\n",
            "\u001b[K     |████████████████████████████████| 348 kB 54.5 MB/s \n",
            "\u001b[?25hCollecting platypus-opt\n",
            "  Downloading Platypus_Opt-1.1.0-py3-none-any.whl (76 kB)\n",
            "\u001b[K     |████████████████████████████████| 76 kB 5.4 MB/s \n",
            "\u001b[?25hCollecting hebo\n",
            "  Downloading HEBO-0.3.2-py3-none-any.whl (106 kB)\n",
            "\u001b[K     |████████████████████████████████| 106 kB 60.8 MB/s \n",
            "\u001b[?25hCollecting ultraopt\n",
            "  Downloading ultraopt-0.1.1.tar.gz (67 kB)\n",
            "\u001b[K     |████████████████████████████████| 67 kB 6.3 MB/s \n",
            "\u001b[?25hRequirement already satisfied: dlib in /usr/local/lib/python3.8/dist-packages (from humpday[full]) (19.24.0)\n",
            "Collecting bayesian-optimization>=1.2.0\n",
            "  Downloading bayesian_optimization-1.4.2-py3-none-any.whl (17 kB)\n",
            "Collecting nlopt\n",
            "  Downloading nlopt-2.7.1-cp38-cp38-manylinux_2_17_x86_64.manylinux2014_x86_64.whl (424 kB)\n",
            "\u001b[K     |████████████████████████████████| 424 kB 30.2 MB/s \n",
            "\u001b[?25hCollecting colorama>=0.4.6\n",
            "  Downloading colorama-0.4.6-py2.py3-none-any.whl (25 kB)\n",
            "Requirement already satisfied: zipp>=0.5 in /usr/local/lib/python3.8/dist-packages (from importlib-metadata>=1.7.0->humpday[full]) (3.11.0)\n",
            "Collecting tdigest\n",
            "  Downloading tdigest-0.5.2.2-py3-none-any.whl (9.4 kB)\n",
            "Collecting muid>=0.5.3\n",
            "  Downloading muid-0.5.3-py3-none-any.whl (173 kB)\n",
            "\u001b[K     |████████████████████████████████| 173 kB 51.3 MB/s \n",
            "\u001b[?25hCollecting schema\n",
            "  Downloading schema-0.7.5-py2.py3-none-any.whl (17 kB)\n",
            "Collecting deepdiff\n",
            "  Downloading deepdiff-6.2.2-py3-none-any.whl (72 kB)\n",
            "\u001b[K     |████████████████████████████████| 72 kB 1.1 MB/s \n",
            "\u001b[?25hCollecting backoff\n",
            "  Downloading backoff-2.2.1-py3-none-any.whl (15 kB)\n",
            "Requirement already satisfied: requests in /usr/local/lib/python3.8/dist-packages (from getjson->humpday[full]) (2.23.0)\n",
            "Collecting contexttimer\n",
            "  Downloading contexttimer-0.3.3.tar.gz (4.9 kB)\n",
            "Requirement already satisfied: joblib>=0.11 in /usr/local/lib/python3.8/dist-packages (from scikit-learn->humpday[full]) (1.2.0)\n",
            "Requirement already satisfied: threadpoolctl>=2.0.0 in /usr/local/lib/python3.8/dist-packages (from scikit-learn->humpday[full]) (3.1.0)\n",
            "Requirement already satisfied: pathlib in /usr/local/lib/python3.8/dist-packages (from winning>=0.4.6->humpday[full]) (1.0.1)\n",
            "Requirement already satisfied: pytest in /usr/local/lib/python3.8/dist-packages (from winning>=0.4.6->humpday[full]) (3.6.4)\n",
            "Requirement already satisfied: pandas in /usr/local/lib/python3.8/dist-packages (from ax-platform->humpday[full]) (1.3.5)\n",
            "Collecting botorch==0.7.2\n",
            "  Downloading botorch-0.7.2-py3-none-any.whl (403 kB)\n",
            "\u001b[K     |████████████████████████████████| 403 kB 63.0 MB/s \n",
            "\u001b[?25hRequirement already satisfied: typeguard in /usr/local/lib/python3.8/dist-packages (from ax-platform->humpday[full]) (2.7.1)\n",
            "Requirement already satisfied: plotly in /usr/local/lib/python3.8/dist-packages (from ax-platform->humpday[full]) (5.5.0)\n",
            "Requirement already satisfied: jinja2 in /usr/local/lib/python3.8/dist-packages (from ax-platform->humpday[full]) (2.11.3)\n",
            "Requirement already satisfied: multipledispatch in /usr/local/lib/python3.8/dist-packages (from botorch==0.7.2->ax-platform->humpday[full]) (0.6.0)\n",
            "Requirement already satisfied: torch>=1.11 in /usr/local/lib/python3.8/dist-packages (from botorch==0.7.2->ax-platform->humpday[full]) (1.13.0+cu116)\n",
            "Collecting gpytorch==1.9.0\n",
            "  Downloading gpytorch-1.9.0-py3-none-any.whl (245 kB)\n",
            "\u001b[K     |████████████████████████████████| 245 kB 60.2 MB/s \n",
            "\u001b[?25hCollecting linear-operator==0.1.1\n",
            "  Downloading linear_operator-0.1.1-py3-none-any.whl (145 kB)\n",
            "\u001b[K     |████████████████████████████████| 145 kB 59.2 MB/s \n",
            "\u001b[?25hCollecting pyro-ppl>=1.8.2\n",
            "  Downloading pyro_ppl-1.8.3-py3-none-any.whl (727 kB)\n",
            "\u001b[K     |████████████████████████████████| 727 kB 47.1 MB/s \n",
            "\u001b[?25hRequirement already satisfied: opt-einsum>=2.3.2 in /usr/local/lib/python3.8/dist-packages (from pyro-ppl>=1.8.2->botorch==0.7.2->ax-platform->humpday[full]) (3.3.0)\n",
            "Requirement already satisfied: tqdm>=4.36 in /usr/local/lib/python3.8/dist-packages (from pyro-ppl>=1.8.2->botorch==0.7.2->ax-platform->humpday[full]) (4.64.1)\n",
            "Collecting pyro-api>=0.1.1\n",
            "  Downloading pyro_api-0.1.2-py3-none-any.whl (11 kB)\n",
            "Requirement already satisfied: typing-extensions in /usr/local/lib/python3.8/dist-packages (from torch>=1.11->botorch==0.7.2->ax-platform->humpday[full]) (4.4.0)\n",
            "Collecting ordered-set<4.2.0,>=4.0.2\n",
            "  Downloading ordered_set-4.1.0-py3-none-any.whl (7.6 kB)\n",
            "Collecting pymoo>=0.5.0\n",
            "  Downloading pymoo-0.6.0.1-cp38-cp38-manylinux_2_5_x86_64.manylinux1_x86_64.manylinux_2_12_x86_64.manylinux2010_x86_64.whl (2.6 MB)\n",
            "\u001b[K     |████████████████████████████████| 2.6 MB 45.6 MB/s \n",
            "\u001b[?25hCollecting GPy>=1.9.9\n",
            "  Downloading GPy-1.10.0.tar.gz (959 kB)\n",
            "\u001b[K     |████████████████████████████████| 959 kB 49.8 MB/s \n",
            "\u001b[?25hCollecting catboost>=0.24.4\n",
            "  Downloading catboost-1.1.1-cp38-none-manylinux1_x86_64.whl (76.6 MB)\n",
            "\u001b[K     |████████████████████████████████| 76.6 MB 1.2 MB/s \n",
            "\u001b[?25hRequirement already satisfied: matplotlib in /usr/local/lib/python3.8/dist-packages (from catboost>=0.24.4->hebo->humpday[full]) (3.2.2)\n",
            "Requirement already satisfied: six in /usr/local/lib/python3.8/dist-packages (from catboost>=0.24.4->hebo->humpday[full]) (1.15.0)\n",
            "Requirement already satisfied: graphviz in /usr/local/lib/python3.8/dist-packages (from catboost>=0.24.4->hebo->humpday[full]) (0.10.1)\n",
            "Collecting paramz>=0.9.0\n",
            "  Downloading paramz-0.9.5.tar.gz (71 kB)\n",
            "\u001b[K     |████████████████████████████████| 71 kB 8.3 MB/s \n",
            "\u001b[?25hRequirement already satisfied: cython>=0.29 in /usr/local/lib/python3.8/dist-packages (from GPy>=1.9.9->hebo->humpday[full]) (0.29.32)\n",
            "Requirement already satisfied: pytz>=2017.3 in /usr/local/lib/python3.8/dist-packages (from pandas->ax-platform->humpday[full]) (2022.6)\n",
            "Requirement already satisfied: python-dateutil>=2.7.3 in /usr/local/lib/python3.8/dist-packages (from pandas->ax-platform->humpday[full]) (2.8.2)\n",
            "Requirement already satisfied: decorator>=4.0.10 in /usr/local/lib/python3.8/dist-packages (from paramz>=0.9.0->GPy>=1.9.9->hebo->humpday[full]) (4.4.2)\n",
            "Collecting Deprecated\n",
            "  Downloading Deprecated-1.2.13-py2.py3-none-any.whl (9.6 kB)\n",
            "Requirement already satisfied: autograd>=1.4 in /usr/local/lib/python3.8/dist-packages (from pymoo>=0.5.0->hebo->humpday[full]) (1.5)\n",
            "Requirement already satisfied: dill in /usr/local/lib/python3.8/dist-packages (from pymoo>=0.5.0->hebo->humpday[full]) (0.3.6)\n",
            "Collecting alive-progress\n",
            "  Downloading alive_progress-3.0.0-py3-none-any.whl (72 kB)\n",
            "\u001b[K     |████████████████████████████████| 72 kB 1.1 MB/s \n",
            "\u001b[?25hCollecting cma==3.2.2\n",
            "  Downloading cma-3.2.2-py2.py3-none-any.whl (249 kB)\n",
            "\u001b[K     |████████████████████████████████| 249 kB 57.5 MB/s \n",
            "\u001b[?25hRequirement already satisfied: future>=0.15.2 in /usr/local/lib/python3.8/dist-packages (from autograd>=1.4->pymoo>=0.5.0->hebo->humpday[full]) (0.16.0)\n",
            "Requirement already satisfied: pyparsing!=2.0.4,!=2.1.2,!=2.1.6,>=2.0.1 in /usr/local/lib/python3.8/dist-packages (from matplotlib->catboost>=0.24.4->hebo->humpday[full]) (3.0.9)\n",
            "Requirement already satisfied: kiwisolver>=1.0.1 in /usr/local/lib/python3.8/dist-packages (from matplotlib->catboost>=0.24.4->hebo->humpday[full]) (1.4.4)\n",
            "Requirement already satisfied: cycler>=0.10 in /usr/local/lib/python3.8/dist-packages (from matplotlib->catboost>=0.24.4->hebo->humpday[full]) (0.11.0)\n",
            "Collecting grapheme==0.6.0\n",
            "  Downloading grapheme-0.6.0.tar.gz (207 kB)\n",
            "\u001b[K     |████████████████████████████████| 207 kB 62.1 MB/s \n",
            "\u001b[?25hCollecting about-time==4.2.1\n",
            "  Downloading about_time-4.2.1-py3-none-any.whl (13 kB)\n",
            "Requirement already satisfied: wrapt<2,>=1.10 in /usr/local/lib/python3.8/dist-packages (from Deprecated->pymoo>=0.5.0->hebo->humpday[full]) (1.14.1)\n",
            "Requirement already satisfied: MarkupSafe>=0.23 in /usr/local/lib/python3.8/dist-packages (from jinja2->ax-platform->humpday[full]) (2.0.1)\n",
            "Collecting colorlog\n",
            "  Downloading colorlog-6.7.0-py2.py3-none-any.whl (11 kB)\n",
            "Collecting alembic>=1.5.0\n",
            "  Downloading alembic-1.9.0-py3-none-any.whl (210 kB)\n",
            "\u001b[K     |████████████████████████████████| 210 kB 57.7 MB/s \n",
            "\u001b[?25hRequirement already satisfied: packaging>=20.0 in /usr/local/lib/python3.8/dist-packages (from optuna->humpday[full]) (21.3)\n",
            "Requirement already satisfied: PyYAML in /usr/local/lib/python3.8/dist-packages (from optuna->humpday[full]) (6.0)\n",
            "Collecting importlib-metadata>=1.7.0\n",
            "  Downloading importlib_metadata-4.13.0-py3-none-any.whl (23 kB)\n",
            "Collecting cmaes>=0.8.2\n",
            "  Downloading cmaes-0.9.0-py3-none-any.whl (23 kB)\n",
            "Requirement already satisfied: sqlalchemy>=1.3.0 in /usr/local/lib/python3.8/dist-packages (from optuna->humpday[full]) (1.4.45)\n",
            "Collecting cliff\n",
            "  Downloading cliff-4.1.0-py3-none-any.whl (81 kB)\n",
            "\u001b[K     |████████████████████████████████| 81 kB 8.6 MB/s \n",
            "\u001b[?25hCollecting Mako\n",
            "  Downloading Mako-1.2.4-py3-none-any.whl (78 kB)\n",
            "\u001b[K     |████████████████████████████████| 78 kB 7.5 MB/s \n",
            "\u001b[?25hRequirement already satisfied: importlib-resources in /usr/local/lib/python3.8/dist-packages (from alembic>=1.5.0->optuna->humpday[full]) (5.10.1)\n",
            "Requirement already satisfied: greenlet!=0.4.17 in /usr/local/lib/python3.8/dist-packages (from sqlalchemy>=1.3.0->optuna->humpday[full]) (2.0.1)\n",
            "Requirement already satisfied: PrettyTable>=0.7.2 in /usr/local/lib/python3.8/dist-packages (from cliff->optuna->humpday[full]) (3.5.0)\n",
            "Collecting autopage>=0.4.0\n",
            "  Downloading autopage-0.5.1-py3-none-any.whl (29 kB)\n",
            "Collecting stevedore>=2.0.1\n",
            "  Downloading stevedore-4.1.1-py3-none-any.whl (50 kB)\n",
            "\u001b[K     |████████████████████████████████| 50 kB 6.2 MB/s \n",
            "\u001b[?25hCollecting cmd2>=1.0.0\n",
            "  Downloading cmd2-2.4.2-py3-none-any.whl (147 kB)\n",
            "\u001b[K     |████████████████████████████████| 147 kB 63.5 MB/s \n",
            "\u001b[?25hRequirement already satisfied: attrs>=16.3.0 in /usr/local/lib/python3.8/dist-packages (from cmd2>=1.0.0->cliff->optuna->humpday[full]) (22.1.0)\n",
            "Collecting pyperclip>=1.6\n",
            "  Downloading pyperclip-1.8.2.tar.gz (20 kB)\n",
            "Requirement already satisfied: wcwidth>=0.1.7 in /usr/local/lib/python3.8/dist-packages (from cmd2>=1.0.0->cliff->optuna->humpday[full]) (0.2.5)\n",
            "Collecting pbr!=2.1.0,>=2.0.0\n",
            "  Downloading pbr-5.11.0-py2.py3-none-any.whl (112 kB)\n",
            "\u001b[K     |████████████████████████████████| 112 kB 46.0 MB/s \n",
            "\u001b[?25hRequirement already satisfied: tenacity>=6.2.0 in /usr/local/lib/python3.8/dist-packages (from plotly->ax-platform->humpday[full]) (8.1.0)\n",
            "Collecting pyDOE2\n",
            "  Downloading pyDOE2-1.3.0.tar.gz (19 kB)\n",
            "Requirement already satisfied: pluggy<0.8,>=0.5 in /usr/local/lib/python3.8/dist-packages (from pytest->winning>=0.4.6->humpday[full]) (0.7.1)\n",
            "Requirement already satisfied: atomicwrites>=1.0 in /usr/local/lib/python3.8/dist-packages (from pytest->winning>=0.4.6->humpday[full]) (1.4.1)\n",
            "Requirement already satisfied: setuptools in /usr/local/lib/python3.8/dist-packages (from pytest->winning>=0.4.6->humpday[full]) (57.4.0)\n",
            "Requirement already satisfied: py>=1.5.0 in /usr/local/lib/python3.8/dist-packages (from pytest->winning>=0.4.6->humpday[full]) (1.11.0)\n",
            "Requirement already satisfied: more-itertools>=4.0.0 in /usr/local/lib/python3.8/dist-packages (from pytest->winning>=0.4.6->humpday[full]) (9.0.0)\n",
            "Requirement already satisfied: idna<3,>=2.5 in /usr/local/lib/python3.8/dist-packages (from requests->getjson->humpday[full]) (2.10)\n",
            "Requirement already satisfied: chardet<4,>=3.0.2 in /usr/local/lib/python3.8/dist-packages (from requests->getjson->humpday[full]) (3.0.4)\n",
            "Requirement already satisfied: urllib3!=1.25.0,!=1.25.1,<1.26,>=1.21.1 in /usr/local/lib/python3.8/dist-packages (from requests->getjson->humpday[full]) (1.24.3)\n",
            "Requirement already satisfied: certifi>=2017.4.17 in /usr/local/lib/python3.8/dist-packages (from requests->getjson->humpday[full]) (2022.12.7)\n",
            "Requirement already satisfied: contextlib2>=0.5.5 in /usr/local/lib/python3.8/dist-packages (from schema->microconventions>=0.5.0->humpday[full]) (0.5.5)\n",
            "Collecting pyudorandom\n",
            "  Downloading pyudorandom-1.0.0.tar.gz (1.6 kB)\n",
            "Collecting accumulation-tree\n",
            "  Downloading accumulation_tree-0.6.2.tar.gz (12 kB)\n",
            "Collecting tabular_nn>=0.1.1\n",
            "  Downloading tabular_nn-0.1.1.tar.gz (15 kB)\n",
            "Collecting ConfigSpace>=0.4.12\n",
            "  Downloading ConfigSpace-0.6.0-cp38-cp38-manylinux_2_17_x86_64.manylinux2014_x86_64.whl (5.7 MB)\n",
            "\u001b[K     |████████████████████████████████| 5.7 MB 55.2 MB/s \n",
            "\u001b[?25hCollecting category_encoders>=2.0.0\n",
            "  Downloading category_encoders-2.5.1.post0-py2.py3-none-any.whl (72 kB)\n",
            "\u001b[K     |████████████████████████████████| 72 kB 727 kB/s \n",
            "\u001b[?25hCollecting scikit-optimize>=0.7.4\n",
            "  Downloading scikit_optimize-0.9.0-py2.py3-none-any.whl (100 kB)\n",
            "\u001b[K     |████████████████████████████████| 100 kB 9.1 MB/s \n",
            "\u001b[?25hCollecting Pyro4>=4.80\n",
            "  Downloading Pyro4-4.82-py2.py3-none-any.whl (89 kB)\n",
            "\u001b[K     |████████████████████████████████| 89 kB 8.4 MB/s \n",
            "\u001b[?25hCollecting terminaltables\n",
            "  Downloading terminaltables-3.1.10-py2.py3-none-any.whl (15 kB)\n",
            "Requirement already satisfied: seaborn>=0.10.0 in /usr/local/lib/python3.8/dist-packages (from ultraopt->humpday[full]) (0.11.2)\n",
            "Requirement already satisfied: patsy>=0.5.1 in /usr/local/lib/python3.8/dist-packages (from category_encoders>=2.0.0->ultraopt->humpday[full]) (0.5.3)\n",
            "Requirement already satisfied: statsmodels>=0.9.0 in /usr/local/lib/python3.8/dist-packages (from category_encoders>=2.0.0->ultraopt->humpday[full]) (0.12.2)\n",
            "Collecting serpent>=1.27\n",
            "  Downloading serpent-1.41-py3-none-any.whl (9.6 kB)\n",
            "Collecting pyaml>=16.9\n",
            "  Downloading pyaml-21.10.1-py2.py3-none-any.whl (24 kB)\n",
            "Collecting frozendict==1.2\n",
            "  Downloading frozendict-1.2.tar.gz (2.6 kB)\n",
            "Building wheels for collected packages: contexttimer, GPy, paramz, grapheme, pyperclip, py-bobyqa, pyDOE2, accumulation-tree, pyudorandom, ultraopt, tabular-nn, frozendict\n",
            "  Building wheel for contexttimer (setup.py) ... \u001b[?25l\u001b[?25hdone\n",
            "  Created wheel for contexttimer: filename=contexttimer-0.3.3-py3-none-any.whl size=5818 sha256=675be2212d8ca5b1e79b039253313beda768228f77f3ba0f2561a05ac6918602\n",
            "  Stored in directory: /root/.cache/pip/wheels/70/dd/09/4924e45dc5912f71b971b6790958b5e82f88c9db95a7cb4969\n",
            "  Building wheel for GPy (setup.py) ... \u001b[?25l\u001b[?25hdone\n",
            "  Created wheel for GPy: filename=GPy-1.10.0-cp38-cp38-linux_x86_64.whl size=2783607 sha256=98a140b3e0cf3c2cac8d9bb2bc232fa075f30addf1c58f85be6ae9aec9c0243d\n",
            "  Stored in directory: /root/.cache/pip/wheels/48/b3/22/31f07cfd7b182ea3703151b7e5a7d6447e3e1ac6aa5c529413\n",
            "  Building wheel for paramz (setup.py) ... \u001b[?25l\u001b[?25hdone\n",
            "  Created wheel for paramz: filename=paramz-0.9.5-py3-none-any.whl size=102566 sha256=2b02291fa7c50f6ec4cf660fb55d4a8b932cf8e954b74ce026c1aa95ead5650a\n",
            "  Stored in directory: /root/.cache/pip/wheels/66/78/6c/d98cb437834de5e29381786b4ba8a77ea68cca74653ab62713\n",
            "  Building wheel for grapheme (setup.py) ... \u001b[?25l\u001b[?25hdone\n",
            "  Created wheel for grapheme: filename=grapheme-0.6.0-py3-none-any.whl size=210096 sha256=29ae427cbc19bdfd49420921bd981d08f404889cca00c22e5f7add0fd8b3833a\n",
            "  Stored in directory: /root/.cache/pip/wheels/2d/08/6b/126ea9009f7482fd53a78d0db2ece5aca70af8f4a30445386b\n",
            "  Building wheel for pyperclip (setup.py) ... \u001b[?25l\u001b[?25hdone\n",
            "  Created wheel for pyperclip: filename=pyperclip-1.8.2-py3-none-any.whl size=11136 sha256=319282085e15211349179d50bf02083fb283fe011412bf52e19fd430d27011c5\n",
            "  Stored in directory: /root/.cache/pip/wheels/7f/1a/65/84ff8c386bec21fca6d220ea1f5498a0367883a78dd5ba6122\n",
            "  Building wheel for py-bobyqa (setup.py) ... \u001b[?25l\u001b[?25hdone\n",
            "  Created wheel for py-bobyqa: filename=Py_BOBYQA-1.3-py3-none-any.whl size=42638 sha256=a3f0a733a886927cf4af89bd191e8564dd36e78578908ce2df53573a2a3f0d91\n",
            "  Stored in directory: /root/.cache/pip/wheels/91/0f/c7/0e0a0055a184c9a71bb90efd8b3522fecb0a6284be81d84b70\n",
            "  Building wheel for pyDOE2 (setup.py) ... \u001b[?25l\u001b[?25hdone\n",
            "  Created wheel for pyDOE2: filename=pyDOE2-1.3.0-py3-none-any.whl size=25539 sha256=01cba6f22e729ccd845c9108f71b76027924bf4595646a3cc79978ce22b37bbe\n",
            "  Stored in directory: /root/.cache/pip/wheels/a7/de/26/98f9a9ff6082bdd6f2c003c6471f0fa7536b1ddd24dc2997e9\n",
            "  Building wheel for accumulation-tree (setup.py) ... \u001b[?25l\u001b[?25hdone\n",
            "  Created wheel for accumulation-tree: filename=accumulation_tree-0.6.2-cp38-cp38-linux_x86_64.whl size=288606 sha256=69380c3b926bb810be35defc6e161bf138dde6e43cc6c6f270eea27ce975c27c\n",
            "  Stored in directory: /root/.cache/pip/wheels/c9/39/d2/c9a954f11bc1b2f95258a48cbd19b0767fe7d3bb061df95a5f\n",
            "  Building wheel for pyudorandom (setup.py) ... \u001b[?25l\u001b[?25hdone\n",
            "  Created wheel for pyudorandom: filename=pyudorandom-1.0.0-py3-none-any.whl size=2223 sha256=ffa4bbdc54205f2201c2adfc09a769df1f215f0c98b584e7c1f1aadb3b138c71\n",
            "  Stored in directory: /root/.cache/pip/wheels/a0/6f/f6/c041bdb344311e31ea28717a6b0ae6106f951f8470329c2cb6\n",
            "  Building wheel for ultraopt (setup.py) ... \u001b[?25l\u001b[?25hdone\n",
            "  Created wheel for ultraopt: filename=ultraopt-0.1.1-py3-none-any.whl size=81527 sha256=a4e4b9701c18c85cb82dea5459112d2094a38162738ab8421839e8abc6a40468\n",
            "  Stored in directory: /root/.cache/pip/wheels/27/b8/8a/1ca9c5730398fb9ae9a5b1a94f4845290ee745146a394c6d3f\n",
            "  Building wheel for tabular-nn (setup.py) ... \u001b[?25l\u001b[?25hdone\n",
            "  Created wheel for tabular-nn: filename=tabular_nn-0.1.1-py3-none-any.whl size=22149 sha256=990dfc7034aa667c4934960d9d36f7dc9caeb79a59bdee49bb8e9e0c6d9f9970\n",
            "  Stored in directory: /root/.cache/pip/wheels/65/c2/16/72cb9f05aebc5e75cefbc155310fcda3e6e4b928b886120a27\n",
            "  Building wheel for frozendict (setup.py) ... \u001b[?25l\u001b[?25hdone\n",
            "  Created wheel for frozendict: filename=frozendict-1.2-py3-none-any.whl size=3165 sha256=6afb6535b3e7e451b4e0d0e9a5bc8335a01263712e60cf5914b923e960bc7b7f\n",
            "  Stored in directory: /root/.cache/pip/wheels/9b/9b/56/5713233cf7226423ab6c58c08081551a301b5863e343ba053c\n",
            "Successfully built contexttimer GPy paramz grapheme pyperclip py-bobyqa pyDOE2 accumulation-tree pyudorandom ultraopt tabular-nn frozendict\n",
            "Installing collected packages: pyudorandom, pyro-api, pyperclip, pbr, ordered-set, linear-operator, grapheme, contexttimer, backoff, accumulation-tree, about-time, tdigest, stevedore, serpent, schema, pyro-ppl, pymorton, pyaml, paramz, muid, Mako, importlib-metadata, gpytorch, getjson, frozendict, Deprecated, deepdiff, cmd2, cma, category-encoders, autopage, alive-progress, winning, terminaltables, tabular-nn, scikit-optimize, Pyro4, pymoo, pyDOE2, poap, microconventions, landscapes, GPy, funcy, ConfigSpace, colorlog, colorama, cmaes, cliff, catboost, botorch, alembic, ultraopt, pysot, py-bobyqa, platypus-opt, optuna, nlopt, humpday, hebo, bayesian-optimization, ax-platform\n",
            "  Attempting uninstall: importlib-metadata\n",
            "    Found existing installation: importlib-metadata 5.1.0\n",
            "    Uninstalling importlib-metadata-5.1.0:\n",
            "      Successfully uninstalled importlib-metadata-5.1.0\n",
            "Successfully installed ConfigSpace-0.6.0 Deprecated-1.2.13 GPy-1.10.0 Mako-1.2.4 Pyro4-4.82 about-time-4.2.1 accumulation-tree-0.6.2 alembic-1.9.0 alive-progress-3.0.0 autopage-0.5.1 ax-platform-0.2.9 backoff-2.2.1 bayesian-optimization-1.4.2 botorch-0.7.2 catboost-1.1.1 category-encoders-2.5.1.post0 cliff-4.1.0 cma-3.2.2 cmaes-0.9.0 cmd2-2.4.2 colorama-0.4.6 colorlog-6.7.0 contexttimer-0.3.3 deepdiff-6.2.2 frozendict-1.2 funcy-1.17 getjson-2.0.0 gpytorch-1.9.0 grapheme-0.6.0 hebo-0.3.2 humpday-0.6.5 importlib-metadata-4.13.0 landscapes-0.0.12 linear-operator-0.1.1 microconventions-1.0.0 muid-0.5.3 nlopt-2.7.1 optuna-3.0.5 ordered-set-4.1.0 paramz-0.9.5 pbr-5.11.0 platypus-opt-1.1.0 poap-0.1.26 py-bobyqa-1.3 pyDOE2-1.3.0 pyaml-21.10.1 pymoo-0.6.0.1 pymorton-1.0.5 pyperclip-1.8.2 pyro-api-0.1.2 pyro-ppl-1.8.3 pysot-0.3.3 pyudorandom-1.0.0 schema-0.7.5 scikit-optimize-0.9.0 serpent-1.41 stevedore-4.1.1 tabular-nn-0.1.1 tdigest-0.5.2.2 terminaltables-3.1.10 ultraopt-0.1.1 winning-0.4.6\n"
          ]
        }
      ]
    },
    {
      "cell_type": "markdown",
      "source": [
        "Uninstall ones you don't want. For example:"
      ],
      "metadata": {
        "id": "uZyl4uqtpm2c"
      }
    },
    {
      "cell_type": "code",
      "source": [
        "!pip uninstall freelunch -y\n",
        "!pip install cmake"
      ],
      "metadata": {
        "id": "p2HN3-InpheV",
        "outputId": "a6eba471-987f-48d7-ef55-e95590d86baf",
        "colab": {
          "base_uri": "https://localhost:8080/"
        }
      },
      "execution_count": 2,
      "outputs": [
        {
          "output_type": "stream",
          "name": "stdout",
          "text": [
            "\u001b[33mWARNING: Skipping freelunch as it is not installed.\u001b[0m\n",
            "Looking in indexes: https://pypi.org/simple, https://us-python.pkg.dev/colab-wheels/public/simple/\n",
            "Requirement already satisfied: cmake in /usr/local/lib/python3.8/dist-packages (3.22.6)\n"
          ]
        }
      ]
    },
    {
      "cell_type": "markdown",
      "source": [
        "If you uninstall, Runtime->Restart runtime"
      ],
      "metadata": {
        "id": "QX5RCfR5qCdO"
      }
    },
    {
      "cell_type": "code",
      "metadata": {
        "id": "GGfPDj6ERPU5"
      },
      "source": [
        "import numpy as np\n",
        "from humpday import recommend\n",
        "import time \n",
        "import math\n",
        "from pprint import pprint"
      ],
      "execution_count": 5,
      "outputs": []
    },
    {
      "cell_type": "code",
      "source": [
        "from scipy.spatial.distance import euclidean"
      ],
      "metadata": {
        "id": "0YFfsMU3SSJB"
      },
      "execution_count": 6,
      "outputs": []
    },
    {
      "cell_type": "markdown",
      "metadata": {
        "id": "V1yKlwYgJLuQ"
      },
      "source": [
        "# A script to recommend a black box optimizer\n",
        "There are lots of package out there. This will generate a shortlist of Python global derivative free optimizers. "
      ]
    },
    {
      "cell_type": "code",
      "metadata": {
        "colab": {
          "base_uri": "https://localhost:8080/"
        },
        "id": "e2Ff1ZyVJGBR",
        "outputId": "9c31540e-b85e-48e3-f360-3829075b5af7"
      },
      "source": [
        "def my_objective(u):\n",
        "   # Swap this out for your own.\n",
        "    sum())\n",
        "   # Domain must be [0,1]^n\n",
        "   time.sleep(0.01)\n",
        "   return u[0]*math.sin(u[1])\n",
        "\n",
        "my_objective(u=[0.2,0.5])\n"
      ],
      "execution_count": null,
      "outputs": [
        {
          "output_type": "execute_result",
          "data": {
            "text/plain": [
              "0.0958851077208406"
            ]
          },
          "metadata": {},
          "execution_count": 2
        }
      ]
    },
    {
      "cell_type": "markdown",
      "metadata": {
        "id": "x3myV_06JO09"
      },
      "source": [
        "## Run the recommender\n",
        "This will puke a list of optimizers, informed by ongoing battles reported in the [Optimizer Elo Ratings](https://microprediction.github.io/optimizer-elo-ratings/html_leaderboards/all_d08_n80.html)"
      ]
    },
    {
      "cell_type": "code",
      "metadata": {
        "colab": {
          "base_uri": "https://localhost:8080/"
        },
        "id": "dWwUwleVJIQT",
        "outputId": "f4e29792-1074-4473-cecf-5037a42ec757"
      },
      "source": [
        "recommendations = recommend(my_objective, n_dim=9, n_trials=130)\n",
        "pprint(recommendations[:10])\n",
        "# Elo rating,  relative computation time, name "
      ],
      "execution_count": null,
      "outputs": [
        {
          "output_type": "stream",
          "name": "stdout",
          "text": [
            "[(1814.3755906106635, 0.0029230117797851562, 'scipy_powell_cube'),\n",
            " (1802.5838664883092, 0.020003080368041992, 'shgo_nelder_sobol_cube'),\n",
            " (1731.6287534816827, 0.028772830963134766, 'pymoo_pattern_cube'),\n",
            " (1687.2937489303822, 0.024258852005004883, 'pymoo_nelder_cube'),\n",
            " (1678.704250303725, 0.017965078353881836, 'shgo_powell_sobol_cube'),\n",
            " (1655.2005888973442, 0.018489837646484375, 'shgo_slsqp_sobol_cube'),\n",
            " (1626.2464422864057, 0.0031270980834960938, 'scipy_lbfgsb_cube')]\n"
          ]
        }
      ]
    },
    {
      "cell_type": "markdown",
      "metadata": {
        "id": "7IP3OxYNO4mo"
      },
      "source": [
        "Any of these can be called from the humpday package. For example:"
      ]
    },
    {
      "cell_type": "code",
      "source": [
        "from humpday.optimizers.scipycube import scipy_powell_cube"
      ],
      "metadata": {
        "id": "ECMxDhDum8H2"
      },
      "execution_count": null,
      "outputs": []
    },
    {
      "cell_type": "markdown",
      "metadata": {
        "id": "ncULVsRVPLUs"
      },
      "source": [
        "# Points race\n",
        "Here's something else you can do that is a lot more time intensive, but probably very helpful. The 'points race' utility will see how all the recommended optimizers perform on your objective function (or set of objective functions). It reports a running total of points, where 3 points are assigned for first place, 2 for second and 1 for third.\n",
        "\n",
        "(I warn you that using the feeble resources on colab for this might require patience)"
      ]
    },
    {
      "cell_type": "code",
      "metadata": {
        "id": "Hd0gHMSJQ7d9"
      },
      "source": [
        "def my_other_objective(u):\n",
        "   # Swap this out for your own. \n",
        "   # Domain must be [0,1]^n\n",
        "   time.sleep(0.01)\n",
        "   return u[0]*u[0]*math.cos(u[1])"
      ],
      "execution_count": null,
      "outputs": []
    },
    {
      "cell_type": "code",
      "metadata": {
        "colab": {
          "base_uri": "https://localhost:8080/"
        },
        "id": "-HK2wVpvQv12",
        "outputId": "3c3f07c5-016d-494e-c338-7ea65ffed26d"
      },
      "source": [
        "from humpday import points_race\n",
        "points_race(objectives=[my_objective, my_other_objective],n_dim=5, n_trials=100)"
      ],
      "execution_count": null,
      "outputs": [
        {
          "output_type": "stream",
          "name": "stdout",
          "text": [
            "Optimizing the my_objective function ...\n"
          ]
        }
      ]
    }
  ]
}